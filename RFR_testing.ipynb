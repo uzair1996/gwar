{
 "cells": [
  {
   "cell_type": "code",
   "execution_count": 4,
   "metadata": {},
   "outputs": [],
   "source": [
    "import pandas as pd\n",
    "from sklearn.model_selection import train_test_split\n",
    "from sklearn.ensemble import RandomForestRegressor\n",
    "from sklearn.metrics import mean_squared_error, mean_absolute_error\n",
    "from sklearn.metrics import r2_score\n",
    "\n",
    "# Load the CSV file\n",
    "df = pd.read_csv('GWAR_dataset.csv')\n",
    "\n",
    "# Define features and target\n",
    "features = ['Caffeine', 'Carbohydrate', 'FAT', 'Fat, saturated', 'Fiber', 'Iron', 'Lactose', 'Protein', 'Starch', 'TOTAL TRANS FATTY ACID', 'Vitamin A', 'Vitamin B12', 'Vitamin C', 'Vitamin D', 'Vitamin E']\n",
    "target = 'CALORIES'\n",
    "\n",
    "# Split into train, validation, and test set (70%, 15%, 15%)\n",
    "train, temp = train_test_split(df, test_size=0.3, random_state=42)\n",
    "val, test = train_test_split(temp, test_size=0.5, random_state=42)"
   ]
  },
  {
   "cell_type": "code",
   "execution_count": 5,
   "metadata": {},
   "outputs": [],
   "source": [
    "# Initialize the model\n",
    "model = RandomForestRegressor(n_estimators=100, random_state=42)"
   ]
  },
  {
   "cell_type": "code",
   "execution_count": 6,
   "metadata": {},
   "outputs": [
    {
     "name": "stdout",
     "output_type": "stream",
     "text": [
      "Validation MSE: 3868.108309785229\n",
      "Validation R^2: 0.8895964603102875\n"
     ]
    }
   ],
   "source": [
    "# Train the model\n",
    "model.fit(train[features], train[target])\n",
    "\n",
    "# Make predictions on the validation set\n",
    "val_predictions = model.predict(val[features])\n",
    "\n",
    "# Evaluate the model\n",
    "mse = mean_squared_error(val[target], val_predictions)\n",
    "print(f'Validation MSE: {mse}')\n",
    "\n",
    "# Make predictions on the validation set\n",
    "val_predictions = model.predict(val[features])\n",
    "\n",
    "# Evaluate the model\n",
    "r2 = r2_score(val[target], val_predictions)\n",
    "print(f'Validation R^2: {r2}')\n"
   ]
  },
  {
   "cell_type": "code",
   "execution_count": 7,
   "metadata": {},
   "outputs": [],
   "source": [
    "# Make predictions on the test set\n",
    "test_predictions = model.predict(test[features])\n",
    "\n",
    "# Create a new DataFrame with the predictions\n",
    "df_predictions = pd.DataFrame(test_predictions, columns=['predicted_calories'])\n",
    "\n",
    "# Save the predictions to a new CSV file\n",
    "df_predictions.to_csv('predictions.csv', index=False)"
   ]
  },
  {
   "cell_type": "code",
   "execution_count": 8,
   "metadata": {},
   "outputs": [],
   "source": [
    "# Create a new DataFrame with the actual target values and the predictions\n",
    "df_predictions = pd.DataFrame({\n",
    "    'actual_calories': test[target],\n",
    "    'predicted_calories': test_predictions\n",
    "})\n",
    "\n",
    "# Save the DataFrame to a new CSV file\n",
    "df_predictions.to_csv('predictions.csv', index=False)"
   ]
  },
  {
   "cell_type": "code",
   "execution_count": 10,
   "metadata": {},
   "outputs": [
    {
     "name": "stdout",
     "output_type": "stream",
     "text": [
      "Test MSE: 4178.5958376900735\n",
      "Test R^2: 0.8795829432617648\n"
     ]
    }
   ],
   "source": [
    "# Evaluate the model\n",
    "MSE = mean_squared_error(test[target], test_predictions)\n",
    "print(f'Test MSE: {MSE}')\n",
    "R2 = r2_score(test[target], test_predictions)\n",
    "print(f'Test R^2: {R2}')\n"
   ]
  },
  {
   "cell_type": "code",
   "execution_count": null,
   "metadata": {},
   "outputs": [],
   "source": []
  },
  {
   "cell_type": "code",
   "execution_count": 2,
   "metadata": {},
   "outputs": [],
   "source": [
    "import pandas as pd\n",
    "from sklearn.model_selection import train_test_split\n",
    "from sklearn.ensemble import RandomForestRegressor\n",
    "from sklearn.metrics import mean_squared_error, mean_absolute_error\n",
    "from sklearn.metrics import r2_score\n"
   ]
  },
  {
   "cell_type": "code",
   "execution_count": null,
   "metadata": {},
   "outputs": [],
   "source": []
  },
  {
   "cell_type": "code",
   "execution_count": null,
   "metadata": {},
   "outputs": [],
   "source": []
  }
 ],
 "metadata": {
  "kernelspec": {
   "display_name": "Python 3",
   "language": "python",
   "name": "python3"
  },
  "language_info": {
   "codemirror_mode": {
    "name": "ipython",
    "version": 3
   },
   "file_extension": ".py",
   "mimetype": "text/x-python",
   "name": "python",
   "nbconvert_exporter": "python",
   "pygments_lexer": "ipython3",
   "version": "3.8.5"
  }
 },
 "nbformat": 4,
 "nbformat_minor": 5
}
