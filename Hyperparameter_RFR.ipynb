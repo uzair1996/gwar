{
 "cells": [
  {
   "cell_type": "code",
   "execution_count": 5,
   "metadata": {},
   "outputs": [
    {
     "name": "stdout",
     "output_type": "stream",
     "text": [
      "Best Hyperparameters:\n",
      "{'max_depth': None, 'min_samples_split': 10, 'n_estimators': 150}\n",
      "Validation MSE: 4020.495851972773\n",
      "Validation R^2: 0.8841390036442301\n"
     ]
    }
   ],
   "source": [
    "import pandas as pd\n",
    "from sklearn.model_selection import train_test_split\n",
    "from sklearn.ensemble import RandomForestRegressor\n",
    "from sklearn.metrics import mean_squared_error, r2_score, mean_absolute_error\n",
    "from sklearn.model_selection import GridSearchCV\n",
    "import matplotlib.pyplot as plt\n",
    "\n",
    "# Load the CSV file\n",
    "df = pd.read_csv('GWAR_dataset.csv')\n",
    "\n",
    "# Define features and target\n",
    "features = ['Caffeine', 'Carbohydrate', 'FAT', 'Fat, saturated', 'Fiber', 'Iron', 'Lactose', 'Protein', 'Starch', 'TOTAL TRANS FATTY ACID', 'Vitamin A', 'Vitamin B12', 'Vitamin C', 'Vitamin D', 'Vitamin E']\n",
    "target = 'CALORIES'\n",
    "\n",
    "# Split into train, validation, and test set (70%, 15%, 15%)\n",
    "train, temp = train_test_split(df, test_size=0.3, random_state=42)\n",
    "val, test = train_test_split(temp, test_size=0.5, random_state=42)\n",
    "\n",
    "# Initialize the model\n",
    "model = RandomForestRegressor(random_state=42)\n",
    "\n",
    "# Define the parameter grid to search over\n",
    "param_grid = {\n",
    "    'n_estimators': [50, 100, 150],  # Number of trees\n",
    "    'max_depth': [None, 5, 10],  # Maximum depth of each tree\n",
    "    'min_samples_split': [2, 5, 10]  # Minimum number of samples required to split a node\n",
    "}\n",
    "\n",
    "# Perform grid search with cross-validation\n",
    "grid_search = GridSearchCV(estimator=model, param_grid=param_grid, cv=5)\n",
    "grid_search.fit(train[features], train[target])\n",
    "\n",
    "# Get the best model and its hyperparameters\n",
    "best_model = grid_search.best_estimator_\n",
    "best_params = grid_search.best_params_\n",
    "\n",
    "print(\"Best Hyperparameters:\")\n",
    "print(best_params)\n",
    "\n",
    "# Make predictions on the testing set using the best model\n",
    "test_predictions = best_model.predict(test[features])\n",
    "\n",
    "# Evaluate the model\n",
    "mse = mean_squared_error(test[target], test_predictions)\n",
    "r2 = r2_score(test[target], test_predictions)\n",
    "\n",
    "print(f'Test MSE: {mse}')\n",
    "print(f'Test R^2: {r2}')\n"
   ]
  },
  {
   "cell_type": "code",
   "execution_count": 8,
   "metadata": {},
   "outputs": [
    {
     "name": "stdout",
     "output_type": "stream",
     "text": [
      "Mean Absolute Error (MAE): 25.192560705416664\n"
     ]
    }
   ],
   "source": [
    "# Calculate the Mean Absolute Error (MAE)\n",
    "mae = mean_absolute_error(test[target], test_predictions)\n",
    "print(\"Mean Absolute Error (MAE):\", mae)"
   ]
  },
  {
   "cell_type": "code",
   "execution_count": 16,
   "metadata": {},
   "outputs": [],
   "source": [
    "# Create a new DataFrame with the predictions\n",
    "df_predictions = pd.DataFrame(test_predictions, columns=['predicted_calories'])\n",
    "\n",
    "# Save the predictions to a new CSV file\n",
    "df_predictions.to_csv('predictions_hp.csv', index=False)"
   ]
  },
  {
   "cell_type": "code",
   "execution_count": 17,
   "metadata": {},
   "outputs": [],
   "source": [
    "# Create a new DataFrame with the actual target values and the predictions\n",
    "df_predictions = pd.DataFrame({\n",
    "    'actual_calories': test[target],\n",
    "    'predicted_calories': test_predictions\n",
    "})\n",
    "\n",
    "# Save the DataFrame to a new CSV file\n",
    "df_predictions.to_csv('predictions.csv', index=False)"
   ]
  },
  {
   "cell_type": "code",
   "execution_count": 18,
   "metadata": {},
   "outputs": [
    {
     "data": {
      "image/png": "[encoded data removed]",
      "text/plain": [
       "<Figure size 432x288 with 1 Axes>"
      ]
     },
     "metadata": {
      "needs_background": "light"
     },
     "output_type": "display_data"
    }
   ],
   "source": [
    "import pandas as pd\n",
    "import matplotlib.pyplot as plt\n",
    "\n",
    "# Read the CSV file\n",
    "data = pd.read_csv('predictions_hp.csv')\n",
    "\n",
    "# Extract the actual and predicted values\n",
    "actual_values = data['actual_calories']\n",
    "predicted_values = data['predicted_calories']\n",
    "\n",
    "# Create a figure and axis\n",
    "fig, ax = plt.subplots()\n",
    "\n",
    "# Plot the actual values\n",
    "ax.plot(actual_values, label='Actual')\n",
    "\n",
    "# Plot the predicted values\n",
    "ax.plot(predicted_values, label='Predicted')\n",
    "\n",
    "# Set labels and title\n",
    "ax.set_xlabel('Data Points')\n",
    "ax.set_ylabel('Values')\n",
    "ax.set_title('Actual vs. Predicted')\n",
    "\n",
    "# Display the legend\n",
    "ax.legend()\n",
    "\n",
    "# Show the plot\n",
    "plt.show()\n"
   ]
  },
  {
   "cell_type": "code",
   "execution_count": null,
   "metadata": {},
   "outputs": [],
   "source": []
  }
 ],
 "metadata": {
  "kernelspec": {
   "display_name": "Python 3",
   "language": "python",
   "name": "python3"
  },
  "language_info": {
   "codemirror_mode": {
    "name": "ipython",
    "version": 3
   },
   "file_extension": ".py",
   "mimetype": "text/x-python",
   "name": "python",
   "nbconvert_exporter": "python",
   "pygments_lexer": "ipython3",
   "version": "3.8.5"
  }
 },
 "nbformat": 4,
 "nbformat_minor": 5
}
